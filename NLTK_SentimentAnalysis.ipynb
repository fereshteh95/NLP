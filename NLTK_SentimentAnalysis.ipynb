{
  "nbformat": 4,
  "nbformat_minor": 0,
  "metadata": {
    "colab": {
      "name": "NLTK_SentimentAnalysis.ipynb",
      "provenance": [],
      "collapsed_sections": []
    },
    "kernelspec": {
      "name": "python3",
      "display_name": "Python 3"
    }
  },
  "cells": [
    {
      "cell_type": "code",
      "metadata": {
        "id": "7ultP-Pr-mM8",
        "colab_type": "code",
        "colab": {
          "base_uri": "https://localhost:8080/",
          "height": 144
        },
        "outputId": "df52d5d7-32ed-4b73-dd65-fc3dbf9ce78f"
      },
      "source": [
        "from nltk.sentiment.vader import SentimentIntensityAnalyzer\n",
        "from nltk.tokenize import sent_tokenize\n",
        "import nltk\n",
        "\n",
        "nltk.download(\"punkt\")\n",
        "nltk.download(\"vader_lexicon\")"
      ],
      "execution_count": 1,
      "outputs": [
        {
          "output_type": "stream",
          "text": [
            "/usr/local/lib/python3.6/dist-packages/nltk/twitter/__init__.py:20: UserWarning: The twython library has not been installed. Some functionality from the twitter package will not be available.\n",
            "  warnings.warn(\"The twython library has not been installed. \"\n"
          ],
          "name": "stderr"
        },
        {
          "output_type": "stream",
          "text": [
            "[nltk_data] Downloading package punkt to /root/nltk_data...\n",
            "[nltk_data]   Unzipping tokenizers/punkt.zip.\n",
            "[nltk_data] Downloading package vader_lexicon to /root/nltk_data...\n"
          ],
          "name": "stdout"
        },
        {
          "output_type": "execute_result",
          "data": {
            "text/plain": [
              "True"
            ]
          },
          "metadata": {
            "tags": []
          },
          "execution_count": 1
        }
      ]
    },
    {
      "cell_type": "code",
      "metadata": {
        "id": "L-SerT5D-_vg",
        "colab_type": "code",
        "colab": {
          "base_uri": "https://localhost:8080/",
          "height": 55
        },
        "outputId": "046a8bfe-7b1a-4d71-daf8-262e7c0ed647"
      },
      "source": [
        "my_string = \"When I was a little boy in elementary school, the neighborhood kids and I all looked forward to playing so many games in my backyard during the long summer holidays between grades. For instance, one of our favorite games was whiffle ball, a kid's version of baseball. All we needed was a cheap plastic bat and a cheap plastic ball and we could entertain ourselves in the backyard from morning to afternoon. Or if we broke the bat or lost the ball, we would play Red Rover, Red Rover. To play this game, we would join hands in two opposing lines and hurl ourselves at the locked wrists of the opposing team, trying to break through their line. Once the sun set, our favorite game was hide-and-seek. My backyard was perfect because there were lots of bushes and trees where we could hide out of sight of the kid who was it.\"\n",
        "sent = sent_tokenize(my_string)\n",
        "print(sent)"
      ],
      "execution_count": 2,
      "outputs": [
        {
          "output_type": "stream",
          "text": [
            "['When I was a little boy in elementary school, the neighborhood kids and I all looked forward to playing so many games in my backyard during the long summer holidays between grades.', \"For instance, one of our favorite games was whiffle ball, a kid's version of baseball.\", 'All we needed was a cheap plastic bat and a cheap plastic ball and we could entertain ourselves in the backyard from morning to afternoon.', 'Or if we broke the bat or lost the ball, we would play Red Rover, Red Rover.', 'To play this game, we would join hands in two opposing lines and hurl ourselves at the locked wrists of the opposing team, trying to break through their line.', 'Once the sun set, our favorite game was hide-and-seek.', 'My backyard was perfect because there were lots of bushes and trees where we could hide out of sight of the kid who was it.']\n"
          ],
          "name": "stdout"
        }
      ]
    },
    {
      "cell_type": "code",
      "metadata": {
        "id": "6sUJEVdw_y8P",
        "colab_type": "code",
        "colab": {
          "base_uri": "https://localhost:8080/",
          "height": 410
        },
        "outputId": "a7dd5555-e6a6-4c22-86c8-b07f84ca000f"
      },
      "source": [
        "sa = SentimentIntensityAnalyzer()\n",
        "\n",
        "for sentence in sent:\n",
        "  print(sentence)\n",
        "  ps = sa.polarity_scores(sentence)\n",
        "  for n in ps:\n",
        "    print('{}: {}, '.format(n, ps[n]), end='')\n",
        "  print()\n",
        "  print()"
      ],
      "execution_count": 3,
      "outputs": [
        {
          "output_type": "stream",
          "text": [
            "When I was a little boy in elementary school, the neighborhood kids and I all looked forward to playing so many games in my backyard during the long summer holidays between grades.\n",
            "neg: 0.0, neu: 0.86, pos: 0.14, compound: 0.5267, \n",
            "\n",
            "For instance, one of our favorite games was whiffle ball, a kid's version of baseball.\n",
            "neg: 0.0, neu: 0.812, pos: 0.188, compound: 0.4588, \n",
            "\n",
            "All we needed was a cheap plastic bat and a cheap plastic ball and we could entertain ourselves in the backyard from morning to afternoon.\n",
            "neg: 0.0, neu: 0.905, pos: 0.095, compound: 0.3182, \n",
            "\n",
            "Or if we broke the bat or lost the ball, we would play Red Rover, Red Rover.\n",
            "neg: 0.237, neu: 0.651, pos: 0.112, compound: -0.4019, \n",
            "\n",
            "To play this game, we would join hands in two opposing lines and hurl ourselves at the locked wrists of the opposing team, trying to break through their line.\n",
            "neg: 0.0, neu: 0.854, pos: 0.146, compound: 0.5574, \n",
            "\n",
            "Once the sun set, our favorite game was hide-and-seek.\n",
            "neg: 0.0, neu: 0.727, pos: 0.273, compound: 0.4588, \n",
            "\n",
            "My backyard was perfect because there were lots of bushes and trees where we could hide out of sight of the kid who was it.\n",
            "neg: 0.06, neu: 0.81, pos: 0.13, compound: 0.4588, \n",
            "\n"
          ],
          "name": "stdout"
        }
      ]
    }
  ]
}